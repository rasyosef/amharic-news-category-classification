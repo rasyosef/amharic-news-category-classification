{
  "cells": [
    {
      "cell_type": "markdown",
      "metadata": {
        "id": "PVDYF5oWKW8P"
      },
      "source": [
        "### **Load Dataset**"
      ]
    },
    {
      "cell_type": "code",
      "execution_count": 1,
      "metadata": {
        "id": "yKXY_334JRr7"
      },
      "outputs": [],
      "source": [
        "# Install the HuggingFace Datasets and Evaluate libraries\n",
        "\n",
        "! pip install --quiet datasets evaluate accelerate"
      ]
    },
    {
      "cell_type": "code",
      "execution_count": 2,
      "metadata": {
        "colab": {
          "base_uri": "https://localhost:8080/"
        },
        "id": "ETpbkJVSKtn9",
        "outputId": "2a591cf5-24f3-4f42-cbd0-70b1ecb4bcce"
      },
      "outputs": [
        {
          "output_type": "stream",
          "name": "stderr",
          "text": [
            "/usr/local/lib/python3.10/dist-packages/huggingface_hub/utils/_token.py:81: UserWarning: \n",
            "Access to the secret `HF_TOKEN` has not been granted on this notebook.\n",
            "You will not be requested again.\n",
            "Please restart the session if you want to be prompted again.\n",
            "  warnings.warn(\n"
          ]
        },
        {
          "output_type": "execute_result",
          "data": {
            "text/plain": [
              "DatasetDict({\n",
              "    train: Dataset({\n",
              "        features: ['headline', 'category', 'date', 'views', 'article', 'link', 'word_len', 'label'],\n",
              "        num_rows: 49971\n",
              "    })\n",
              "})"
            ]
          },
          "metadata": {},
          "execution_count": 2
        }
      ],
      "source": [
        "# Load the Amharic news text classification dataset\n",
        "from datasets import load_dataset\n",
        "\n",
        "news_dataset = load_dataset(\"rasyosef/amharic-news-category-classification\")\n",
        "news_dataset"
      ]
    },
    {
      "cell_type": "code",
      "execution_count": 3,
      "metadata": {
        "colab": {
          "base_uri": "https://localhost:8080/"
        },
        "id": "30ErdL0Q46kt",
        "outputId": "01c5e88e-fab6-46d7-e2ca-68094e96770f"
      },
      "outputs": [
        {
          "output_type": "stream",
          "name": "stdout",
          "text": [
            "DatasetDict({\n",
            "    train: Dataset({\n",
            "        features: ['headline', 'category', 'date', 'views', 'article', 'link', 'word_len', 'label'],\n",
            "        num_rows: 39976\n",
            "    })\n",
            "    test: Dataset({\n",
            "        features: ['headline', 'category', 'date', 'views', 'article', 'link', 'word_len', 'label'],\n",
            "        num_rows: 9995\n",
            "    })\n",
            "})\n"
          ]
        }
      ],
      "source": [
        "raw_datasets = news_dataset['train'].train_test_split(train_size=0.8, seed=42)\n",
        "\n",
        "print(raw_datasets)"
      ]
    },
    {
      "cell_type": "code",
      "execution_count": 4,
      "metadata": {
        "colab": {
          "base_uri": "https://localhost:8080/"
        },
        "id": "LZVG8jAaLPZJ",
        "outputId": "6a4a4054-e4ed-4ca9-b1e4-6153ee770baa"
      },
      "outputs": [
        {
          "output_type": "stream",
          "name": "stdout",
          "text": [
            "{'headline': 'ዘላቂ  ልማትን ለማረጋገጥ  ያለመው  የአዲስ  አበባ የልማት አጀንዳ  ተቀባይነት አገኘ', 'category': 'ፖለቲካ', 'date': 'July 17, 2015', 'views': 'Unknown', 'article': 'በዛሬው ዕለት 3ኛው የፋይናንስ ጉባኤ ለልማት ጉባኤ ማጠቃለያ ላይ የኤፌዴሪ ጠቅላይ ሚኒስትርና የጉባኤው ፕሬዚዳንት ኃይለማሪያም ደሳለኝ እንደገለጹት ዘላቂ ልማት ለማረጋገጥ የሚያስችለውን የአዲስ አበባ የልማት አጀንዳ መሪ ዕቅድ ተግባራዊ ከአራት ቀን ጉባኤ በኋላ ስምምነትን አግኝቷል ።እንደ ጠቅላይ ሚኒስትር ኃይለማሪያም ገለጻ የፋይናንስ ለልማተ ጉባኤ የተካሄደበት \\xa0ሳምንት በዓለም ልማት ታሪክ ላይ ጉልህ ሥፍራ እንዳለው በመጠቆም \\xa0በንም \\xa0በልማት ወደ ኋላ አይቀርም የሚለውን መርህ \\xa0በታላቅ ጉጉት እየጠበቀው ይገኛል ብለዋል ።በጉባኤ \\xa0ያደጉ አገራት አብዛኛውን የልማት ድጋፍ ገና በማደግ ላይ ላሉ አገራት ለመመደብ \\xa0መስማማታቸው \\xa0የጉባኤ ትልቅ ውጤት ነው ያሉት ጠቅላይ ሚኒስትሩ \\xa0ያደጉ አገራት ከአጠቃላይ አገራዊ ገቢያቸው \\xa0ከዜሮነጥብ7 የሚሆነውን \\xa0ለልማት ድጋፍ እንዲያውሉና ከዚህም ውስጥ \\xa0ከ ዜሮ ነጥብ 15 እስከ ዜሮ ነጥብ ሃያ ድረስ \\xa0በድህነት ጫፍ ላይ ለሚገኙ አገራት እንደሚመደብ አስረድተዋል ።ጉባኤው \\xa0የግሉ ዘርፍ \\xa0ለልማት ያለውን አስተዋጽኦ አጉልቶ ማውጣቱን የጠቆሙት ጠቅላይ ሚኒስትሩ \\xa0 የመንግሥትና የግል ዘርፉ የኢንቨስትመንት መዋለ ንዋይ ትክክለኛ የኢኮኖሚ ዕድገትን እንደሚያመጣ \\xa0አብራርተዋል ።ኢትዮጵያ \\xa0እኤአ በ2025 \\xa0መካከለኛ \\xa0ገቢ ካላቸው አገራት ለማሰለፍ ከወዲሁ ውጥን ተይዞ እየተሠራ መሆኑንየጠቀሱት ጠቅላይ ሚኒሰትሩ የውጭ ቀጥታ ኢንቨስትመንትን በማጠናከርና ዕድገትን ይበልጥ በማፋጠን የተቀመጠው ግብ እንደሚሳካ ተናግረዋል ።3ኛው ዓለም አቀፍ \\xa0የፋይናንስ ለልማት ጉባኤ \\xa0ከ200 \\xa0በላይ በሚበልጡ የጉንዮሽ ጉባኤዎች ጭምር \\xa0ከፍተኛውየሆና የተሳትፎ \\xa0ግብረ መልሰ የተገኘበት መሆኑን የገለጹት ጠቅላይ ሚኒስትሩ \\xa0እንዚህምርጥ ተሞክሮዎችናግኝቶች \\xa0ለወደፊቱ \\xa0ለዓለም ትቅል ለውጥ ያመጣሉ ብለዋል ።የጂ 77ና ቻይናን \\xa0በመወከል ንግግር ያደረጉት የደቡብ አፍሪካ ተወካይ \\xa0እንዳብራሩት ለብዙ ወራት ቡድኑ \\xa0ድህነትን ጠራርጉ ለማጥፋት እንቅፋት የሆኑት ጉዳዮች ላይ ተጠምዶ ሲሰራ እንደቆየ በመግለጽ \\xa0መፍትሄው \\xa0የአቅመ ግንባታና የቴክኖሎጂ ሽግግር ለታጋዲ አገሮች ዘላቂ ልማተ መረጋጋጥ \\xa0ቁልፈ ሚና እንዳላቸው ገልጸዋል ።የደቡብ አፍሪካ ተወካዩ \\xa0የታጋዲ አገራት ህዝቦችን ኑሮ በሚለውጡ \\xa0ጉዳዮችብ \\xa0በተመለከተ \\xa0በጉባኤው \\xa0ውይይት ሲደረግባቸው እንደነበር በመጥቀስ \\xa0ዓለም አንደ አንድ ሆኖ ከተንቀሳቀሰ \\xa0 የተሻለች ዓለምን \\xa0መፍጠር ይቻላል ብለዋል ።የዓለም ባንክ ፤አይኤም ኤፍባሌሎች የዓለም ልማት \\xa0ባንኮች \\xa0ከ400 ቢሊዮን የአሜሪካ ዶላር \\xa0ለዘላዊ ልማት ግቦችን \\xa0ለማሳካት እንደሚያውሉ አስታውቀዋል ።', 'link': 'https://waltainfo.com/am/25478/', 'word_len': 270, 'label': 5}\n",
            "{'headline': 'ታሪክ ተሰራ !\\xa0', 'category': 'ስፖርት', 'date': 'March 19, 2017', 'views': 'Unknown', 'article': 'በቶታል ካፍ ቻምፒየንስ ሊግ የመጀመሪያ ዙር ማጣሪያ የመልስ ጨዋታ ወደ ዶሊሴ አቅንቶ ምንተስኖት አዳነ ብቸኛ ግብ 1-0 አሸንፎ የተመለሰው ቅዱስ ጊዮርጊስ በዛሬው የመልስ ጨዋታ በሰልሀዲን ሰኢድ ሁለት ግቦች ኤሲ ሊዮፓርድስን በድምር ውጤት 3-0 በማሸነፍ በኢትዮጵያ ክለቦች ታሪክ ለመጀመሪያ በአፍሪካ ቻምፒየንስ ሊግ ወደ ምድብ ድልድል መግባት የቻለ ቡድን በመሆን አይረሴ ታሪክን ማስቀመጥ ችሏል፡፡ፈረሰኞቹ ባሳለፍነው እሁድ ግቧን ያስቆጠረውና ከሜዳ በቀይ ካርድ የተሰናበተውን ምንተስኖት አዳነን በአዳነ ግርማ ከተኩት ውጪ ባሳለፍነው እሁድ የተጠቀሙበትን ተመሳሳይ የመጀመርያ 11 ተጫዋቾች ይዘው ነበር ጨዋታውን የጀመሩት፡፡በጨዋታው የመጀመሪያ 15 ደቂቃዎች ሁለቱም ቡድኖች ከተከላካይ በቀጥታ ወደፊት በሚጣሉ ረጃጅም ኳሶች በቶሎ ወደፊት ለመድረስ ጥረት ለማድረግ ሲሞክሩ ተስተውሏል፡፡ በመጀመሪያዎቹ ደቂቃዎች የቅዱስ ጊዮርጊስ ተከላካዮች በተለይም የመሀል ተከላካዮ ሰልሀዲን በርጌቾ በተደጋጋሚ ከትኩረት ማነስ በመነጨ ስህተቶች ቢሰራም የቡድኑ አጋሮቹ ስህተቶቹ አደጋ እንዳይፈጥሩ አድርገዋቸዋል፡፡ በአንጻሩ ኤሲ ሊዮፓርድሶች የምእራብ አፍሪካ ቡድኖች በሚታወቁበት የመስመር አጨዋወት ወደ ግራ መስመር ባደላ መልኩ በግራ መስመር ተከላካያቸው በኩል በተደጋጋሚ ጫና ለመፍጠር ሞክረዋል፡፡በ15ኛው ደቂቃ ላይ የኤሲ ሊዮፓርድሱ ግብጠባቂ ሉቱኑ በረጅሙ ሊለጋ የነበረውን ኳስ ሰልሀዲን ሰኢድ ተደርቦ በማስቆጠር የፈረሰኞቹን እድል ያሰፋችውን የመጀመሪያ ግብ ማስቆጠር ችሏል፡፡ከግቧ መቆጠር በኃላ በተደጋጋሚ ሊዮፓርድሶች በጨዋታው ጠንካራ የማጥቃት መሰንዘሪያ በነበረው የግራ መስመራቸው በኩል የቅዱስ ጊዮርጊሱን የቀኝ መስመር ተከላካይ የሆነውን ፍሬዘር ካሳ በተደጋጋሚ ቡድኑ ኳስ በሚያጣበት ጊዜ በሚኖረው የ4-5-1 ቅርፅ መሠረት ከሱ ፊት ከሚገኘው በሀይሉ አሰፋ በቂ የሆነ እገዛ ባለማግኘቱ በተደጋጋሚ 1ለ1 ከተቃራኒ ቡድን የመስመር ተጫዋቾች ጋር እየተገናኘ በቀላሉ ኳሶች ወደ መሀል ማሻማት ችለው ነበር፡፡ ነገርግን ኳሶቹ እምብዛም አደጋ መፍጠር አልቻሉም፡፡\\xa0በተቃራኒው ሊዮፓርድሶች ከማጥቃት ወደ መከላከል የሚያደርጉት ሽግግር እጅግ የዘገመ በመሆኑ መነሻነት ቅዱስ ጊዮርጊሶች በመልሶ ማጥቃት እንቅስቃሴ እጅግ በርካታ እድሎችን ቢያገኙም መጠቀም አልቻሉም፡፡ ከነዚህም መካከል በ19ኛው ደቂቃ ላይ ሰልሀዲን ሰኢድ ከቀኝ መስመር አብዱልከሪም ኒኪማ ያሻማለትን ኳስ በግንባሩ ገጭቶ የግቡ ቋሚ የመለሰበት እንዲሁም በ45ኛው ደቂቃ ሰልሀዲን ሰኢድ ከአቡዱልከሪም ኒኪማ የተቀበለውን ኳስ እራሱ ማስቆጠር ሲችል ለበሀይሉ አሰፋ አቀብሎት ያመከኗት ኳስ ተጠቃሽ ነበሩ፡፡ ከነዚህም በተጨማሪ ጊዮርጊሶች በመጀመሪያው አጋማሽ ከተጋጣሚያቸው ተሽለው ቢገኙም ያገኟቸውን በርካታ የግብ እድሎችን ግን መጠቀም ሳይችሉ ቀርተዋል፡፡በሁለተኛው አጋማሽ ሜዳ ላይ ከነበረው የጨዋታ እንቅስቃሴ ይልቅ ከሜዳ ውጪ የነበረው የፈረሰኞቹ ደጋፊዎች ድባብ እጅግ የሚያስደምም ነበር፡፡በዚህ አጋማሽ አበባው ቡጣቆ ከግራ መስመር አቅጣጫ ያሻማውን ኳስ አዳነ ግርማ በግንባሩ ገጭቶ ወደ ውጪ ከወጣበት ኳስ ውጪ ቅዱስ ጊዮርጊሶች ይህ ነው የሚባል የግብ እድል መፍጠር አልቻሉም፡፡ በአመዛኙም ውጤቱን ለማስጠበቅ በሚመስል በብዙ አጋጣሚዎች ወደ ኃላ አፈገግፍገው ሲጫወቱ ተስተውሏል፡፡ በአንጻሩ ለማለፍ ከሁለት በላይ ግቦች ያስፈልጋቸው የነበሩት ኤሲ ሊዮፓርዶች ከመጀመሪያው በተሻለ ቶሎ ቶሎ ወደ ግብ መድረስ ቢችሉም ግቦችን ለማስቆጠር ያደረጉት ጥረት ሳይሳካ ቀርቷል፡፡ጨዋታው ሊገባደድ ሲል በጭማሪ ሰአት የማእዘን ምት ለመሻማት የኤሲ ሊዮፓርድስ ተጫዋቾች ሙሉ በሙሉ ግብ ጠባቂውን ጨምሮ ወደ ቅዱስ ጊዮርጊስ የግብ ክልል መሄዳቸውን ተከትሎ በቀላሉ ተገጭቶ የተመለሰውን የማእዘን ምት ኳስ ሰልሀዲን ሰኢድ ከራሱ የግብ ክልል አንስቶ እየገፋ በመሄድ የፈሰኞቹን ድል ያረጋጠችውን ጎል አስቆጥሮ የቡድኑን ደጋፊዎች ወደ ወሰን የሌለው የደስታ ስሜት ውስጥ መክተት ችሏል፡፡የጨዋታውን መጠናቀቅ ያበሰረችውን ፌሽካ በእለቱ ጨዋታውን የመሩት ሱማሊያዊው አልቢትር ካሰሙ በኃላ በስታዲየሙ የነበረው የደስታን ስሜት ቃላቶች ከሚገልፁት በላይ ልዩ የነበረ ሲሆን የክለቡ የበላይ ጠባቂ የሆኑት አቶ አብነት ገብረመስቀልን ጨምሮ የቡድኑ አመራሮች እና ተጫዋቾች በከፍተኛ ሆኔታ ከደጋፊዎቻቸው ጋር ደስታቸውን ሲገልፁ ተስተውሏል፡፡ በዚህ ውጤት መሠረትም ቅዱስ ጊዮርጊስ ለመጀመሪያ ጊዜ በአፍሪካ ክለቦች ቻምፒየንስ ሊግ ውድድር ላይ የምድብ ድልድል ውስጥ የገባ የመጀመርያው ኢትዮጵያዊ ክለብ በመሆን ታሪክ መስራት ችሏል፡፡', 'link': 'https://soccerethiopia.net/football/26554', 'word_len': 484, 'label': 2}\n",
            "{'headline': Value(dtype='string', id=None), 'category': Value(dtype='string', id=None), 'date': Value(dtype='string', id=None), 'views': Value(dtype='string', id=None), 'article': Value(dtype='string', id=None), 'link': Value(dtype='string', id=None), 'word_len': Value(dtype='int64', id=None), 'label': ClassLabel(names=['ሀገር አቀፍ ዜና', 'መዝናኛ', 'ስፖርት', 'ቢዝነስ', 'ዓለም አቀፍ ዜና', 'ፖለቲካ'], id=None)}\n"
          ]
        }
      ],
      "source": [
        "print(raw_datasets['train'][0])\n",
        "print(raw_datasets['test'][0])\n",
        "print(raw_datasets['train'].features)"
      ]
    },
    {
      "cell_type": "code",
      "execution_count": 5,
      "metadata": {
        "colab": {
          "base_uri": "https://localhost:8080/"
        },
        "id": "p_ipgOz-R2l7",
        "outputId": "e5ba07c7-4e6c-48e4-c617-88fedc4431a1"
      },
      "outputs": [
        {
          "output_type": "execute_result",
          "data": {
            "text/plain": [
              "DatasetDict({\n",
              "    train: Dataset({\n",
              "        features: ['headline', 'category', 'date', 'views', 'article', 'link', 'word_len', 'label'],\n",
              "        num_rows: 38966\n",
              "    })\n",
              "    test: Dataset({\n",
              "        features: ['headline', 'category', 'date', 'views', 'article', 'link', 'word_len', 'label'],\n",
              "        num_rows: 9735\n",
              "    })\n",
              "})"
            ]
          },
          "metadata": {},
          "execution_count": 5
        }
      ],
      "source": [
        "# Remove articles that are too short\n",
        "\n",
        "raw_datasets = raw_datasets.filter(lambda x: x['word_len'] >= 32)\n",
        "raw_datasets"
      ]
    },
    {
      "cell_type": "code",
      "execution_count": 6,
      "metadata": {
        "colab": {
          "base_uri": "https://localhost:8080/"
        },
        "id": "K2wa3NvEUDEs",
        "outputId": "091a4558-c77c-4c00-ca30-d9aec26f12b4"
      },
      "outputs": [
        {
          "output_type": "execute_result",
          "data": {
            "text/plain": [
              "['ሀገር አቀፍ ዜና', 'መዝናኛ', 'ስፖርት', 'ቢዝነስ', 'ዓለም አቀፍ ዜና', 'ፖለቲካ']"
            ]
          },
          "metadata": {},
          "execution_count": 6
        }
      ],
      "source": [
        "categories = raw_datasets['train'].features['label'].names\n",
        "categories"
      ]
    },
    {
      "cell_type": "code",
      "execution_count": 7,
      "metadata": {
        "colab": {
          "base_uri": "https://localhost:8080/"
        },
        "id": "-9k_70_vhcgz",
        "outputId": "0507f67b-fadf-4a9b-f181-c10e243207e4"
      },
      "outputs": [
        {
          "output_type": "execute_result",
          "data": {
            "text/plain": [
              "DatasetDict({\n",
              "    train: Dataset({\n",
              "        features: ['headline', 'category', 'date', 'views', 'article', 'link', 'word_len', 'label', 'full_article'],\n",
              "        num_rows: 38966\n",
              "    })\n",
              "    test: Dataset({\n",
              "        features: ['headline', 'category', 'date', 'views', 'article', 'link', 'word_len', 'label', 'full_article'],\n",
              "        num_rows: 9735\n",
              "    })\n",
              "})"
            ]
          },
          "metadata": {},
          "execution_count": 7
        }
      ],
      "source": [
        "# Concatenate the title and article\n",
        "raw_datasets = raw_datasets.map(lambda x: {\"full_article\" : x[\"headline\"] + \"\\n\" + x[\"article\"]})\n",
        "raw_datasets"
      ]
    },
    {
      "cell_type": "markdown",
      "metadata": {
        "id": "hFWnv71FMvse"
      },
      "source": [
        "### **Preprocessing the dataset**"
      ]
    },
    {
      "cell_type": "code",
      "execution_count": 8,
      "metadata": {
        "id": "0ci2nufOMFwm",
        "colab": {
          "base_uri": "https://localhost:8080/",
          "height": 277,
          "referenced_widgets": [
            "50f076191b84452ab54fb130e10de54b",
            "d8ae0e9d04104b94ac2d1e4827840229",
            "67d83e8965634f63b77cb43e80a16e53",
            "d97717778f6c47e2871f2f8dc8e6cd80",
            "7351753d9aca456d8bbb1888f4deab21",
            "00ac74e6fd1b4b5ea94b25d0cd2fcd31",
            "2057b2dbeced422ab46f6cda5d6f257d",
            "2d2e55ddcf334f8897ef1e3e4875cf26",
            "195bfface3644c1780478ad8f21f4b84",
            "35cfa8c57d9c40d88d4bd23b4c41807e",
            "b5a85ee2b1834a16a7485a7a92f84266"
          ]
        },
        "outputId": "6834260f-f202-4430-d1a4-724712574325"
      },
      "outputs": [
        {
          "output_type": "stream",
          "name": "stderr",
          "text": [
            "/usr/local/lib/python3.10/dist-packages/huggingface_hub/file_download.py:1132: FutureWarning: `resume_download` is deprecated and will be removed in version 1.0.0. Downloads always resume when possible. If you want to force a new download, use `force_download=True`.\n",
            "  warnings.warn(\n"
          ]
        },
        {
          "output_type": "display_data",
          "data": {
            "text/plain": [
              "Map:   0%|          | 0/9735 [00:00<?, ? examples/s]"
            ],
            "application/vnd.jupyter.widget-view+json": {
              "version_major": 2,
              "version_minor": 0,
              "model_id": "50f076191b84452ab54fb130e10de54b"
            }
          },
          "metadata": {}
        },
        {
          "output_type": "stream",
          "name": "stdout",
          "text": [
            "DatasetDict({\n",
            "    train: Dataset({\n",
            "        features: ['headline', 'category', 'date', 'views', 'article', 'link', 'word_len', 'label', 'full_article', 'input_ids', 'attention_mask'],\n",
            "        num_rows: 38966\n",
            "    })\n",
            "    test: Dataset({\n",
            "        features: ['headline', 'category', 'date', 'views', 'article', 'link', 'word_len', 'label', 'full_article', 'input_ids', 'attention_mask'],\n",
            "        num_rows: 9735\n",
            "    })\n",
            "})\n"
          ]
        }
      ],
      "source": [
        "from transformers import AutoTokenizer, DataCollatorWithPadding\n",
        "\n",
        "checkpoint = \"FacebookAI/xlm-roberta-base\"\n",
        "tokenizer = AutoTokenizer.from_pretrained(checkpoint)\n",
        "\n",
        "# Tokenize the dataset\n",
        "\n",
        "def tokenize_function(example):\n",
        "  return tokenizer(example['full_article'], truncation=True, max_length=512)\n",
        "\n",
        "tokenized_datasets = raw_datasets.map(tokenize_function, batched=True)\n",
        "tokenized_datasets\n",
        "\n",
        "# Use a data collator to apply dynamic padding\n",
        "\n",
        "data_collator = DataCollatorWithPadding(tokenizer=tokenizer, return_tensors='pt')\n",
        "\n",
        "print(tokenized_datasets)"
      ]
    },
    {
      "cell_type": "markdown",
      "metadata": {
        "id": "WxhrXKJAWp_Z"
      },
      "source": [
        "### **Finetuning the Model**"
      ]
    },
    {
      "cell_type": "code",
      "execution_count": 9,
      "metadata": {
        "colab": {
          "base_uri": "https://localhost:8080/"
        },
        "id": "TsaWJBAtzbE0",
        "outputId": "9b23469a-5aed-468f-b807-4183e98a630f"
      },
      "outputs": [
        {
          "output_type": "stream",
          "name": "stderr",
          "text": [
            "Some weights of XLMRobertaForSequenceClassification were not initialized from the model checkpoint at FacebookAI/xlm-roberta-base and are newly initialized: ['classifier.dense.bias', 'classifier.dense.weight', 'classifier.out_proj.bias', 'classifier.out_proj.weight']\n",
            "You should probably TRAIN this model on a down-stream task to be able to use it for predictions and inference.\n"
          ]
        }
      ],
      "source": [
        "# Load the model\n",
        "\n",
        "from transformers import AutoModelForSequenceClassification\n",
        "\n",
        "# roberta-base\n",
        "\n",
        "model = AutoModelForSequenceClassification.from_pretrained(\n",
        "    checkpoint,\n",
        "    num_labels=len(categories),\n",
        "    id2label = {i: lbl for i, lbl in enumerate(categories)},\n",
        "    label2id = {lbl: i for i, lbl in enumerate(categories)},\n",
        "    device_map=\"cuda\"\n",
        ")"
      ]
    },
    {
      "cell_type": "code",
      "execution_count": 10,
      "metadata": {
        "id": "rnoH2Wk-mMhZ"
      },
      "outputs": [],
      "source": [
        "from transformers import TrainingArguments\n",
        "\n",
        "batch_size = 16\n",
        "gradient_accumulation_steps = 4\n",
        "epochs = 5\n",
        "\n",
        "training_args = TrainingArguments(\n",
        "    output_dir=checkpoint+\"-finetuned\",\n",
        "    learning_rate=5e-5,\n",
        "    per_device_train_batch_size=batch_size,\n",
        "    per_device_eval_batch_size=batch_size,\n",
        "    gradient_accumulation_steps=gradient_accumulation_steps,\n",
        "    num_train_epochs=epochs,\n",
        "    weight_decay=0.1,\n",
        "    evaluation_strategy=\"epoch\",\n",
        "    save_strategy=\"epoch\",\n",
        "    logging_strategy=\"epoch\",\n",
        "    load_best_model_at_end=True,\n",
        "    metric_for_best_model=\"f1\",\n",
        "    fp16=True,\n",
        "    seed=42,\n",
        ")"
      ]
    },
    {
      "cell_type": "code",
      "execution_count": 11,
      "metadata": {
        "colab": {
          "base_uri": "https://localhost:8080/"
        },
        "id": "B-hZQNWwo5kk",
        "outputId": "d1ec2e7b-8ce7-41bb-d381-245837eba1a3"
      },
      "outputs": [
        {
          "output_type": "execute_result",
          "data": {
            "text/plain": [
              "{'accuracy': 1.0, 'precision': 1.0, 'recall': 1.0, 'f1': 1.0}"
            ]
          },
          "metadata": {},
          "execution_count": 11
        }
      ],
      "source": [
        "import evaluate\n",
        "import numpy as np\n",
        "\n",
        "def compute_metrics(eval_preds):\n",
        "  metric1 = evaluate.load(\"accuracy\")\n",
        "  metric2 = evaluate.load(\"precision\")\n",
        "  metric3 = evaluate.load(\"recall\")\n",
        "  metric4 = evaluate.load(\"f1\")\n",
        "\n",
        "  logits, labels = eval_preds\n",
        "  predictions = np.argmax(logits, axis=-1)\n",
        "\n",
        "  accuracy = metric1.compute(predictions=predictions, references=labels)[\"accuracy\"]\n",
        "  precision = metric2.compute(predictions=predictions, references=labels, average='macro')[\"precision\"]\n",
        "  recall = metric3.compute(predictions=predictions, references=labels, average='macro')[\"recall\"]\n",
        "  f1 = metric4.compute(predictions=predictions, references=labels, average='macro')[\"f1\"]\n",
        "\n",
        "  return {\n",
        "      \"accuracy\": accuracy,\n",
        "      \"precision\": precision,\n",
        "      \"recall\": recall,\n",
        "      \"f1\": f1\n",
        "  }\n",
        "\n",
        "compute_metrics(([[1,0], [0,1]], [0,1]))"
      ]
    },
    {
      "cell_type": "code",
      "execution_count": 12,
      "metadata": {
        "id": "M3nt3pm7n8st",
        "colab": {
          "base_uri": "https://localhost:8080/",
          "height": 357
        },
        "outputId": "06b878cd-56ea-4525-b707-08683a61bb07"
      },
      "outputs": [
        {
          "data": {
            "text/html": [
              "\n",
              "    <div>\n",
              "      \n",
              "      <progress value='840' max='3045' style='width:300px; height:20px; vertical-align: middle;'></progress>\n",
              "      [ 840/3045 12:12 < 32:08, 1.14 it/s, Epoch 1.38/5]\n",
              "    </div>\n",
              "    <table border=\"1\" class=\"dataframe\">\n",
              "  <thead>\n",
              " <tr style=\"text-align: left;\">\n",
              "      <th>Epoch</th>\n",
              "      <th>Training Loss</th>\n",
              "      <th>Validation Loss</th>\n",
              "      <th>Accuracy</th>\n",
              "      <th>Precision</th>\n",
              "      <th>Recall</th>\n",
              "      <th>F1</th>\n",
              "    </tr>\n",
              "  </thead>\n",
              "  <tbody>\n",
              "    <tr>\n",
              "      <td>1</td>\n",
              "      <td>0.562200</td>\n",
              "      <td>0.365156</td>\n",
              "      <td>0.862250</td>\n",
              "      <td>0.782529</td>\n",
              "      <td>0.865374</td>\n",
              "      <td>0.812864</td>\n",
              "    </tr>\n",
              "  </tbody>\n",
              "</table><p>"
            ],
            "text/plain": [
              "<IPython.core.display.HTML object>"
            ]
          },
          "metadata": {},
          "output_type": "display_data"
        },
        {
          "output_type": "display_data",
          "data": {
            "text/plain": [
              "<IPython.core.display.HTML object>"
            ],
            "text/html": [
              "\n",
              "    <div>\n",
              "      \n",
              "      <progress value='3045' max='3045' style='width:300px; height:20px; vertical-align: middle;'></progress>\n",
              "      [3045/3045 45:24, Epoch 5/5]\n",
              "    </div>\n",
              "    <table border=\"1\" class=\"dataframe\">\n",
              "  <thead>\n",
              " <tr style=\"text-align: left;\">\n",
              "      <th>Epoch</th>\n",
              "      <th>Training Loss</th>\n",
              "      <th>Validation Loss</th>\n",
              "      <th>Accuracy</th>\n",
              "      <th>Precision</th>\n",
              "      <th>Recall</th>\n",
              "      <th>F1</th>\n",
              "    </tr>\n",
              "  </thead>\n",
              "  <tbody>\n",
              "    <tr>\n",
              "      <td>1</td>\n",
              "      <td>0.562200</td>\n",
              "      <td>0.365156</td>\n",
              "      <td>0.862250</td>\n",
              "      <td>0.782529</td>\n",
              "      <td>0.865374</td>\n",
              "      <td>0.812864</td>\n",
              "    </tr>\n",
              "    <tr>\n",
              "      <td>2</td>\n",
              "      <td>0.324000</td>\n",
              "      <td>0.321566</td>\n",
              "      <td>0.880637</td>\n",
              "      <td>0.859052</td>\n",
              "      <td>0.836564</td>\n",
              "      <td>0.844553</td>\n",
              "    </tr>\n",
              "    <tr>\n",
              "      <td>3</td>\n",
              "      <td>0.250300</td>\n",
              "      <td>0.325716</td>\n",
              "      <td>0.883102</td>\n",
              "      <td>0.882634</td>\n",
              "      <td>0.793801</td>\n",
              "      <td>0.817918</td>\n",
              "    </tr>\n",
              "    <tr>\n",
              "      <td>4</td>\n",
              "      <td>0.190200</td>\n",
              "      <td>0.321911</td>\n",
              "      <td>0.894196</td>\n",
              "      <td>0.858177</td>\n",
              "      <td>0.876819</td>\n",
              "      <td>0.866780</td>\n",
              "    </tr>\n",
              "    <tr>\n",
              "      <td>5</td>\n",
              "      <td>0.141000</td>\n",
              "      <td>0.323280</td>\n",
              "      <td>0.898408</td>\n",
              "      <td>0.876105</td>\n",
              "      <td>0.875467</td>\n",
              "      <td>0.875634</td>\n",
              "    </tr>\n",
              "  </tbody>\n",
              "</table><p>"
            ]
          },
          "metadata": {}
        },
        {
          "output_type": "execute_result",
          "data": {
            "text/plain": [
              "TrainOutput(global_step=3045, training_loss=0.293547734603506, metrics={'train_runtime': 2727.4718, 'train_samples_per_second': 71.432, 'train_steps_per_second': 1.116, 'total_flos': 5.12635130584295e+16, 'train_loss': 0.293547734603506, 'epoch': 5.0})"
            ]
          },
          "metadata": {},
          "execution_count": 12
        }
      ],
      "source": [
        "from transformers import Trainer\n",
        "\n",
        "trainer = Trainer(\n",
        "    model=model,\n",
        "    args=training_args,\n",
        "    train_dataset=tokenized_datasets[\"train\"],\n",
        "    eval_dataset=tokenized_datasets[\"test\"],\n",
        "    tokenizer=tokenizer,\n",
        "    data_collator=data_collator,\n",
        "    compute_metrics=compute_metrics,\n",
        ")\n",
        "\n",
        "trainer.train()"
      ]
    },
    {
      "cell_type": "markdown",
      "metadata": {
        "id": "YxcSxsJYgTrs"
      },
      "source": [
        "### **Model Predictions**"
      ]
    },
    {
      "cell_type": "code",
      "execution_count": 13,
      "metadata": {
        "id": "2i6lbff_eZPh",
        "colab": {
          "base_uri": "https://localhost:8080/"
        },
        "outputId": "b6c4c773-1d33-466e-892f-15eb53b3ba84"
      },
      "outputs": [
        {
          "output_type": "stream",
          "name": "stdout",
          "text": [
            "['labels', 'input_ids', 'attention_mask']\n"
          ]
        },
        {
          "output_type": "execute_result",
          "data": {
            "text/plain": [
              "{'f1': 0.8756344650022968}"
            ]
          },
          "metadata": {},
          "execution_count": 13
        }
      ],
      "source": [
        "# Load metrics and evaluate the model\n",
        "\n",
        "from torch.utils.data import DataLoader\n",
        "\n",
        "eval_dataset = tokenized_datasets[\"test\"].remove_columns([\n",
        "    'headline', 'category', 'date', 'views',\n",
        "    'article', 'link', 'word_len', 'full_article'\n",
        "    ]).rename_column(\"label\", \"labels\").with_format(\"torch\")\n",
        "\n",
        "print(eval_dataset.column_names)\n",
        "\n",
        "eval_dataloader = DataLoader(\n",
        "    eval_dataset,\n",
        "    shuffle=True,\n",
        "    batch_size=64,\n",
        "    collate_fn=data_collator,\n",
        ")\n",
        "\n",
        "import evaluate\n",
        "import torch\n",
        "\n",
        "y_pred, y_test = [], []\n",
        "\n",
        "metric = evaluate.load(\"f1\")\n",
        "model.eval()\n",
        "for batch in eval_dataloader:\n",
        "  batch = {k: v.to('cuda') for k, v in batch.items()}\n",
        "  with torch.no_grad():\n",
        "    outputs = model(**batch)\n",
        "\n",
        "  logits = outputs.logits\n",
        "  predictions = torch.argmax(logits, dim=-1)\n",
        "  metric.add_batch(predictions=predictions, references=batch[\"labels\"])\n",
        "  y_pred.extend(predictions.cpu().numpy())\n",
        "  y_test.extend(batch[\"labels\"].cpu().numpy())\n",
        "metric.compute(average='macro')"
      ]
    },
    {
      "cell_type": "code",
      "execution_count": null,
      "metadata": {
        "id": "9JPNAvx6gcxc"
      },
      "outputs": [],
      "source": [
        "len(y_pred), len(y_test)"
      ]
    },
    {
      "cell_type": "code",
      "execution_count": 15,
      "metadata": {
        "id": "AlNRZwFRN4HB",
        "colab": {
          "base_uri": "https://localhost:8080/"
        },
        "outputId": "4218c8a8-e73d-4b6b-da8d-06d9b18b1cec"
      },
      "outputs": [
        {
          "output_type": "execute_result",
          "data": {
            "text/plain": [
              "{'f1': 0.8986341914792896}"
            ]
          },
          "metadata": {},
          "execution_count": 15
        }
      ],
      "source": [
        "metric.compute(predictions=y_pred, references=y_test, average='weighted')"
      ]
    },
    {
      "cell_type": "code",
      "execution_count": 16,
      "metadata": {
        "id": "peVet6RYC7NZ",
        "colab": {
          "base_uri": "https://localhost:8080/"
        },
        "outputId": "5238c275-f7c9-43d8-b9a6-42022047cbe5"
      },
      "outputs": [
        {
          "output_type": "execute_result",
          "data": {
            "text/plain": [
              "array([[3516,    6,   12,  135,   80,  209],\n",
              "       [  15,   90,    1,    0,    2,    1],\n",
              "       [   3,    0, 1946,    0,    1,    2],\n",
              "       [ 121,    1,    0,  584,    0,   72],\n",
              "       [  67,    1,    1,    2, 1024,   12],\n",
              "       [ 150,    6,    3,   80,    6, 1586]])"
            ]
          },
          "metadata": {},
          "execution_count": 16
        }
      ],
      "source": [
        "from sklearn import metrics\n",
        "\n",
        "metrics.confusion_matrix(y_test, y_pred)"
      ]
    },
    {
      "cell_type": "code",
      "execution_count": 17,
      "metadata": {
        "id": "P3pysPvEvLVv",
        "colab": {
          "base_uri": "https://localhost:8080/"
        },
        "outputId": "d9a601d1-f0bc-4242-ae18-f00b8778925c"
      },
      "outputs": [
        {
          "output_type": "stream",
          "name": "stdout",
          "text": [
            "              precision    recall  f1-score   support\n",
            "\n",
            "           0       0.91      0.89      0.90      3958\n",
            "           1       0.87      0.83      0.85       109\n",
            "           2       0.99      1.00      0.99      1952\n",
            "           3       0.73      0.75      0.74       778\n",
            "           4       0.92      0.93      0.92      1107\n",
            "           5       0.84      0.87      0.85      1831\n",
            "\n",
            "    accuracy                           0.90      9735\n",
            "   macro avg       0.88      0.88      0.88      9735\n",
            "weighted avg       0.90      0.90      0.90      9735\n",
            "\n"
          ]
        }
      ],
      "source": [
        "from sklearn import metrics\n",
        "\n",
        "print(metrics.classification_report(y_test, y_pred))"
      ]
    },
    {
      "cell_type": "code",
      "execution_count": 17,
      "metadata": {
        "id": "VAxB9YqxqFCG"
      },
      "outputs": [],
      "source": []
    }
  ],
  "metadata": {
    "accelerator": "GPU",
    "colab": {
      "gpuType": "V100",
      "provenance": []
    },
    "kernelspec": {
      "display_name": "Python 3",
      "name": "python3"
    },
    "language_info": {
      "name": "python"
    },
    "widgets": {
      "application/vnd.jupyter.widget-state+json": {
        "50f076191b84452ab54fb130e10de54b": {
          "model_module": "@jupyter-widgets/controls",
          "model_name": "HBoxModel",
          "model_module_version": "1.5.0",
          "state": {
            "_dom_classes": [],
            "_model_module": "@jupyter-widgets/controls",
            "_model_module_version": "1.5.0",
            "_model_name": "HBoxModel",
            "_view_count": null,
            "_view_module": "@jupyter-widgets/controls",
            "_view_module_version": "1.5.0",
            "_view_name": "HBoxView",
            "box_style": "",
            "children": [
              "IPY_MODEL_d8ae0e9d04104b94ac2d1e4827840229",
              "IPY_MODEL_67d83e8965634f63b77cb43e80a16e53",
              "IPY_MODEL_d97717778f6c47e2871f2f8dc8e6cd80"
            ],
            "layout": "IPY_MODEL_7351753d9aca456d8bbb1888f4deab21"
          }
        },
        "d8ae0e9d04104b94ac2d1e4827840229": {
          "model_module": "@jupyter-widgets/controls",
          "model_name": "HTMLModel",
          "model_module_version": "1.5.0",
          "state": {
            "_dom_classes": [],
            "_model_module": "@jupyter-widgets/controls",
            "_model_module_version": "1.5.0",
            "_model_name": "HTMLModel",
            "_view_count": null,
            "_view_module": "@jupyter-widgets/controls",
            "_view_module_version": "1.5.0",
            "_view_name": "HTMLView",
            "description": "",
            "description_tooltip": null,
            "layout": "IPY_MODEL_00ac74e6fd1b4b5ea94b25d0cd2fcd31",
            "placeholder": "​",
            "style": "IPY_MODEL_2057b2dbeced422ab46f6cda5d6f257d",
            "value": "Map: 100%"
          }
        },
        "67d83e8965634f63b77cb43e80a16e53": {
          "model_module": "@jupyter-widgets/controls",
          "model_name": "FloatProgressModel",
          "model_module_version": "1.5.0",
          "state": {
            "_dom_classes": [],
            "_model_module": "@jupyter-widgets/controls",
            "_model_module_version": "1.5.0",
            "_model_name": "FloatProgressModel",
            "_view_count": null,
            "_view_module": "@jupyter-widgets/controls",
            "_view_module_version": "1.5.0",
            "_view_name": "ProgressView",
            "bar_style": "success",
            "description": "",
            "description_tooltip": null,
            "layout": "IPY_MODEL_2d2e55ddcf334f8897ef1e3e4875cf26",
            "max": 9735,
            "min": 0,
            "orientation": "horizontal",
            "style": "IPY_MODEL_195bfface3644c1780478ad8f21f4b84",
            "value": 9735
          }
        },
        "d97717778f6c47e2871f2f8dc8e6cd80": {
          "model_module": "@jupyter-widgets/controls",
          "model_name": "HTMLModel",
          "model_module_version": "1.5.0",
          "state": {
            "_dom_classes": [],
            "_model_module": "@jupyter-widgets/controls",
            "_model_module_version": "1.5.0",
            "_model_name": "HTMLModel",
            "_view_count": null,
            "_view_module": "@jupyter-widgets/controls",
            "_view_module_version": "1.5.0",
            "_view_name": "HTMLView",
            "description": "",
            "description_tooltip": null,
            "layout": "IPY_MODEL_35cfa8c57d9c40d88d4bd23b4c41807e",
            "placeholder": "​",
            "style": "IPY_MODEL_b5a85ee2b1834a16a7485a7a92f84266",
            "value": " 9735/9735 [00:33&lt;00:00, 266.96 examples/s]"
          }
        },
        "7351753d9aca456d8bbb1888f4deab21": {
          "model_module": "@jupyter-widgets/base",
          "model_name": "LayoutModel",
          "model_module_version": "1.2.0",
          "state": {
            "_model_module": "@jupyter-widgets/base",
            "_model_module_version": "1.2.0",
            "_model_name": "LayoutModel",
            "_view_count": null,
            "_view_module": "@jupyter-widgets/base",
            "_view_module_version": "1.2.0",
            "_view_name": "LayoutView",
            "align_content": null,
            "align_items": null,
            "align_self": null,
            "border": null,
            "bottom": null,
            "display": null,
            "flex": null,
            "flex_flow": null,
            "grid_area": null,
            "grid_auto_columns": null,
            "grid_auto_flow": null,
            "grid_auto_rows": null,
            "grid_column": null,
            "grid_gap": null,
            "grid_row": null,
            "grid_template_areas": null,
            "grid_template_columns": null,
            "grid_template_rows": null,
            "height": null,
            "justify_content": null,
            "justify_items": null,
            "left": null,
            "margin": null,
            "max_height": null,
            "max_width": null,
            "min_height": null,
            "min_width": null,
            "object_fit": null,
            "object_position": null,
            "order": null,
            "overflow": null,
            "overflow_x": null,
            "overflow_y": null,
            "padding": null,
            "right": null,
            "top": null,
            "visibility": null,
            "width": null
          }
        },
        "00ac74e6fd1b4b5ea94b25d0cd2fcd31": {
          "model_module": "@jupyter-widgets/base",
          "model_name": "LayoutModel",
          "model_module_version": "1.2.0",
          "state": {
            "_model_module": "@jupyter-widgets/base",
            "_model_module_version": "1.2.0",
            "_model_name": "LayoutModel",
            "_view_count": null,
            "_view_module": "@jupyter-widgets/base",
            "_view_module_version": "1.2.0",
            "_view_name": "LayoutView",
            "align_content": null,
            "align_items": null,
            "align_self": null,
            "border": null,
            "bottom": null,
            "display": null,
            "flex": null,
            "flex_flow": null,
            "grid_area": null,
            "grid_auto_columns": null,
            "grid_auto_flow": null,
            "grid_auto_rows": null,
            "grid_column": null,
            "grid_gap": null,
            "grid_row": null,
            "grid_template_areas": null,
            "grid_template_columns": null,
            "grid_template_rows": null,
            "height": null,
            "justify_content": null,
            "justify_items": null,
            "left": null,
            "margin": null,
            "max_height": null,
            "max_width": null,
            "min_height": null,
            "min_width": null,
            "object_fit": null,
            "object_position": null,
            "order": null,
            "overflow": null,
            "overflow_x": null,
            "overflow_y": null,
            "padding": null,
            "right": null,
            "top": null,
            "visibility": null,
            "width": null
          }
        },
        "2057b2dbeced422ab46f6cda5d6f257d": {
          "model_module": "@jupyter-widgets/controls",
          "model_name": "DescriptionStyleModel",
          "model_module_version": "1.5.0",
          "state": {
            "_model_module": "@jupyter-widgets/controls",
            "_model_module_version": "1.5.0",
            "_model_name": "DescriptionStyleModel",
            "_view_count": null,
            "_view_module": "@jupyter-widgets/base",
            "_view_module_version": "1.2.0",
            "_view_name": "StyleView",
            "description_width": ""
          }
        },
        "2d2e55ddcf334f8897ef1e3e4875cf26": {
          "model_module": "@jupyter-widgets/base",
          "model_name": "LayoutModel",
          "model_module_version": "1.2.0",
          "state": {
            "_model_module": "@jupyter-widgets/base",
            "_model_module_version": "1.2.0",
            "_model_name": "LayoutModel",
            "_view_count": null,
            "_view_module": "@jupyter-widgets/base",
            "_view_module_version": "1.2.0",
            "_view_name": "LayoutView",
            "align_content": null,
            "align_items": null,
            "align_self": null,
            "border": null,
            "bottom": null,
            "display": null,
            "flex": null,
            "flex_flow": null,
            "grid_area": null,
            "grid_auto_columns": null,
            "grid_auto_flow": null,
            "grid_auto_rows": null,
            "grid_column": null,
            "grid_gap": null,
            "grid_row": null,
            "grid_template_areas": null,
            "grid_template_columns": null,
            "grid_template_rows": null,
            "height": null,
            "justify_content": null,
            "justify_items": null,
            "left": null,
            "margin": null,
            "max_height": null,
            "max_width": null,
            "min_height": null,
            "min_width": null,
            "object_fit": null,
            "object_position": null,
            "order": null,
            "overflow": null,
            "overflow_x": null,
            "overflow_y": null,
            "padding": null,
            "right": null,
            "top": null,
            "visibility": null,
            "width": null
          }
        },
        "195bfface3644c1780478ad8f21f4b84": {
          "model_module": "@jupyter-widgets/controls",
          "model_name": "ProgressStyleModel",
          "model_module_version": "1.5.0",
          "state": {
            "_model_module": "@jupyter-widgets/controls",
            "_model_module_version": "1.5.0",
            "_model_name": "ProgressStyleModel",
            "_view_count": null,
            "_view_module": "@jupyter-widgets/base",
            "_view_module_version": "1.2.0",
            "_view_name": "StyleView",
            "bar_color": null,
            "description_width": ""
          }
        },
        "35cfa8c57d9c40d88d4bd23b4c41807e": {
          "model_module": "@jupyter-widgets/base",
          "model_name": "LayoutModel",
          "model_module_version": "1.2.0",
          "state": {
            "_model_module": "@jupyter-widgets/base",
            "_model_module_version": "1.2.0",
            "_model_name": "LayoutModel",
            "_view_count": null,
            "_view_module": "@jupyter-widgets/base",
            "_view_module_version": "1.2.0",
            "_view_name": "LayoutView",
            "align_content": null,
            "align_items": null,
            "align_self": null,
            "border": null,
            "bottom": null,
            "display": null,
            "flex": null,
            "flex_flow": null,
            "grid_area": null,
            "grid_auto_columns": null,
            "grid_auto_flow": null,
            "grid_auto_rows": null,
            "grid_column": null,
            "grid_gap": null,
            "grid_row": null,
            "grid_template_areas": null,
            "grid_template_columns": null,
            "grid_template_rows": null,
            "height": null,
            "justify_content": null,
            "justify_items": null,
            "left": null,
            "margin": null,
            "max_height": null,
            "max_width": null,
            "min_height": null,
            "min_width": null,
            "object_fit": null,
            "object_position": null,
            "order": null,
            "overflow": null,
            "overflow_x": null,
            "overflow_y": null,
            "padding": null,
            "right": null,
            "top": null,
            "visibility": null,
            "width": null
          }
        },
        "b5a85ee2b1834a16a7485a7a92f84266": {
          "model_module": "@jupyter-widgets/controls",
          "model_name": "DescriptionStyleModel",
          "model_module_version": "1.5.0",
          "state": {
            "_model_module": "@jupyter-widgets/controls",
            "_model_module_version": "1.5.0",
            "_model_name": "DescriptionStyleModel",
            "_view_count": null,
            "_view_module": "@jupyter-widgets/base",
            "_view_module_version": "1.2.0",
            "_view_name": "StyleView",
            "description_width": ""
          }
        }
      }
    }
  },
  "nbformat": 4,
  "nbformat_minor": 0
}